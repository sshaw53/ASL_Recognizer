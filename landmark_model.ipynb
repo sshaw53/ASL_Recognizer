{
 "cells": [
  {
   "cell_type": "markdown",
   "metadata": {},
   "source": [
    "# Model for Hand Landmarks"
   ]
  },
  {
   "cell_type": "markdown",
   "metadata": {},
   "source": [
    "### Library Imports and Data Loading"
   ]
  },
  {
   "cell_type": "code",
   "execution_count": 39,
   "metadata": {},
   "outputs": [],
   "source": [
    "import pandas as pd\n",
    "import seaborn as sns\n",
    "import matplotlib.pyplot as plt\n",
    "from sklearn.neighbors import KNeighborsClassifier\n",
    "from sklearn.model_selection import train_test_split, cross_val_score\n",
    "from sklearn.metrics import confusion_matrix, ConfusionMatrixDisplay\n",
    "from sklearn.preprocessing import MinMaxScaler"
   ]
  },
  {
   "cell_type": "code",
   "execution_count": 40,
   "metadata": {},
   "outputs": [],
   "source": [
    "df = pd.read_csv(\"data/landmark_locations.csv\")"
   ]
  },
  {
   "cell_type": "code",
   "execution_count": 41,
   "metadata": {},
   "outputs": [
    {
     "name": "stdout",
     "output_type": "stream",
     "text": [
      "<class 'pandas.core.frame.DataFrame'>\n",
      "RangeIndex: 1962 entries, 0 to 1961\n",
      "Data columns (total 43 columns):\n",
      " #   Column               Non-Null Count  Dtype  \n",
      "---  ------               --------------  -----  \n",
      " 0   WRIST_X              1962 non-null   float64\n",
      " 1   WRIST_Y              1962 non-null   float64\n",
      " 2   Letter               1962 non-null   object \n",
      " 3   THUMB_CMC_X          1962 non-null   float64\n",
      " 4   THUMB_CMC_Y          1962 non-null   float64\n",
      " 5   THUMB_MCP_X          1962 non-null   float64\n",
      " 6   THUMB_MCP_Y          1962 non-null   float64\n",
      " 7   THUMB_IP_X           1962 non-null   float64\n",
      " 8   THUMB_IP_Y           1962 non-null   float64\n",
      " 9   THUMB_TIP_X          1962 non-null   float64\n",
      " 10  THUMB_TIP_Y          1962 non-null   float64\n",
      " 11  INDEX_FINGER_MCP_X   1962 non-null   float64\n",
      " 12  INDEX_FINGER_MCP_Y   1962 non-null   float64\n",
      " 13  INDEX_FINGER_PIP_X   1962 non-null   float64\n",
      " 14  INDEX_FINGER_PIP_Y   1962 non-null   float64\n",
      " 15  INDEX_FINGER_DIP_X   1962 non-null   float64\n",
      " 16  INDEX_FINGER_DIP_Y   1962 non-null   float64\n",
      " 17  INDEX_FINGER_TIP_X   1962 non-null   float64\n",
      " 18  INDEX_FINGER_TIP_Y   1962 non-null   float64\n",
      " 19  MIDDLE_FINGER_MCP_X  1962 non-null   float64\n",
      " 20  MIDDLE_FINGER_MCP_Y  1962 non-null   float64\n",
      " 21  MIDDLE_FINGER_PIP_X  1962 non-null   float64\n",
      " 22  MIDDLE_FINGER_PIP_Y  1962 non-null   float64\n",
      " 23  MIDDLE_FINGER_DIP_X  1962 non-null   float64\n",
      " 24  MIDDLE_FINGER_DIP_Y  1962 non-null   float64\n",
      " 25  MIDDLE_FINGER_TIP_X  1962 non-null   float64\n",
      " 26  MIDDLE_FINGER_TIP_Y  1962 non-null   float64\n",
      " 27  RING_FINGER_MCP_X    1962 non-null   float64\n",
      " 28  RING_FINGER_MCP_Y    1962 non-null   float64\n",
      " 29  RING_FINGER_PIP_X    1962 non-null   float64\n",
      " 30  RING_FINGER_PIP_Y    1962 non-null   float64\n",
      " 31  RING_FINGER_DIP_X    1962 non-null   float64\n",
      " 32  RING_FINGER_DIP_Y    1962 non-null   float64\n",
      " 33  RING_FINGER_TIP_X    1962 non-null   float64\n",
      " 34  RING_FINGER_TIP_Y    1962 non-null   float64\n",
      " 35  PINKY_MCP_X          1962 non-null   float64\n",
      " 36  PINKY_MCP_Y          1962 non-null   float64\n",
      " 37  PINKY_PIP_X          1962 non-null   float64\n",
      " 38  PINKY_PIP_Y          1962 non-null   float64\n",
      " 39  PINKY_DIP_X          1962 non-null   float64\n",
      " 40  PINKY_DIP_Y          1962 non-null   float64\n",
      " 41  PINKY_TIP_X          1962 non-null   float64\n",
      " 42  PINKY_TIP_Y          1962 non-null   float64\n",
      "dtypes: float64(42), object(1)\n",
      "memory usage: 659.2+ KB\n"
     ]
    }
   ],
   "source": [
    "df.info()"
   ]
  },
  {
   "cell_type": "code",
   "execution_count": 42,
   "metadata": {},
   "outputs": [
    {
     "data": {
      "text/plain": [
       "array(['a', 'b', 'd', 'e', 'f', 'h', 'i', 'k', 'l', 'm', 'n', 'p', 'q',\n",
       "       't', 'u', 'v', 'w', 'y'], dtype=object)"
      ]
     },
     "execution_count": 42,
     "metadata": {},
     "output_type": "execute_result"
    }
   ],
   "source": [
    "df['Letter'].unique()"
   ]
  },
  {
   "cell_type": "code",
   "execution_count": 43,
   "metadata": {},
   "outputs": [
    {
     "data": {
      "text/html": [
       "<div>\n",
       "<style scoped>\n",
       "    .dataframe tbody tr th:only-of-type {\n",
       "        vertical-align: middle;\n",
       "    }\n",
       "\n",
       "    .dataframe tbody tr th {\n",
       "        vertical-align: top;\n",
       "    }\n",
       "\n",
       "    .dataframe thead th {\n",
       "        text-align: right;\n",
       "    }\n",
       "</style>\n",
       "<table border=\"1\" class=\"dataframe\">\n",
       "  <thead>\n",
       "    <tr style=\"text-align: right;\">\n",
       "      <th></th>\n",
       "      <th>WRIST_X</th>\n",
       "      <th>WRIST_Y</th>\n",
       "      <th>Letter</th>\n",
       "      <th>THUMB_CMC_X</th>\n",
       "      <th>THUMB_CMC_Y</th>\n",
       "      <th>THUMB_MCP_X</th>\n",
       "      <th>THUMB_MCP_Y</th>\n",
       "      <th>THUMB_IP_X</th>\n",
       "      <th>THUMB_IP_Y</th>\n",
       "      <th>THUMB_TIP_X</th>\n",
       "      <th>...</th>\n",
       "      <th>RING_FINGER_TIP_X</th>\n",
       "      <th>RING_FINGER_TIP_Y</th>\n",
       "      <th>PINKY_MCP_X</th>\n",
       "      <th>PINKY_MCP_Y</th>\n",
       "      <th>PINKY_PIP_X</th>\n",
       "      <th>PINKY_PIP_Y</th>\n",
       "      <th>PINKY_DIP_X</th>\n",
       "      <th>PINKY_DIP_Y</th>\n",
       "      <th>PINKY_TIP_X</th>\n",
       "      <th>PINKY_TIP_Y</th>\n",
       "    </tr>\n",
       "  </thead>\n",
       "  <tbody>\n",
       "    <tr>\n",
       "      <th>0</th>\n",
       "      <td>0.549741</td>\n",
       "      <td>0.806314</td>\n",
       "      <td>a</td>\n",
       "      <td>0.478870</td>\n",
       "      <td>0.730268</td>\n",
       "      <td>0.443897</td>\n",
       "      <td>0.562370</td>\n",
       "      <td>0.435461</td>\n",
       "      <td>0.426004</td>\n",
       "      <td>0.428723</td>\n",
       "      <td>...</td>\n",
       "      <td>0.544214</td>\n",
       "      <td>0.496491</td>\n",
       "      <td>0.609634</td>\n",
       "      <td>0.480920</td>\n",
       "      <td>0.607194</td>\n",
       "      <td>0.370279</td>\n",
       "      <td>0.586257</td>\n",
       "      <td>0.424699</td>\n",
       "      <td>0.578705</td>\n",
       "      <td>0.490445</td>\n",
       "    </tr>\n",
       "    <tr>\n",
       "      <th>1</th>\n",
       "      <td>0.550903</td>\n",
       "      <td>0.807938</td>\n",
       "      <td>a</td>\n",
       "      <td>0.480252</td>\n",
       "      <td>0.731891</td>\n",
       "      <td>0.444677</td>\n",
       "      <td>0.563318</td>\n",
       "      <td>0.436595</td>\n",
       "      <td>0.428557</td>\n",
       "      <td>0.428147</td>\n",
       "      <td>...</td>\n",
       "      <td>0.543923</td>\n",
       "      <td>0.496591</td>\n",
       "      <td>0.610477</td>\n",
       "      <td>0.478628</td>\n",
       "      <td>0.607984</td>\n",
       "      <td>0.368154</td>\n",
       "      <td>0.587011</td>\n",
       "      <td>0.423518</td>\n",
       "      <td>0.579195</td>\n",
       "      <td>0.489630</td>\n",
       "    </tr>\n",
       "    <tr>\n",
       "      <th>2</th>\n",
       "      <td>0.546920</td>\n",
       "      <td>0.800893</td>\n",
       "      <td>a</td>\n",
       "      <td>0.474883</td>\n",
       "      <td>0.724740</td>\n",
       "      <td>0.439800</td>\n",
       "      <td>0.560035</td>\n",
       "      <td>0.430985</td>\n",
       "      <td>0.424709</td>\n",
       "      <td>0.419549</td>\n",
       "      <td>...</td>\n",
       "      <td>0.541135</td>\n",
       "      <td>0.494007</td>\n",
       "      <td>0.606882</td>\n",
       "      <td>0.476591</td>\n",
       "      <td>0.605523</td>\n",
       "      <td>0.366041</td>\n",
       "      <td>0.583733</td>\n",
       "      <td>0.422533</td>\n",
       "      <td>0.574113</td>\n",
       "      <td>0.489113</td>\n",
       "    </tr>\n",
       "    <tr>\n",
       "      <th>3</th>\n",
       "      <td>0.546462</td>\n",
       "      <td>0.801266</td>\n",
       "      <td>a</td>\n",
       "      <td>0.475197</td>\n",
       "      <td>0.731994</td>\n",
       "      <td>0.438885</td>\n",
       "      <td>0.555374</td>\n",
       "      <td>0.434032</td>\n",
       "      <td>0.411660</td>\n",
       "      <td>0.427522</td>\n",
       "      <td>...</td>\n",
       "      <td>0.539967</td>\n",
       "      <td>0.494287</td>\n",
       "      <td>0.607510</td>\n",
       "      <td>0.470473</td>\n",
       "      <td>0.605259</td>\n",
       "      <td>0.357664</td>\n",
       "      <td>0.583582</td>\n",
       "      <td>0.417015</td>\n",
       "      <td>0.574945</td>\n",
       "      <td>0.484437</td>\n",
       "    </tr>\n",
       "    <tr>\n",
       "      <th>4</th>\n",
       "      <td>0.544573</td>\n",
       "      <td>0.816253</td>\n",
       "      <td>a</td>\n",
       "      <td>0.472201</td>\n",
       "      <td>0.743610</td>\n",
       "      <td>0.434722</td>\n",
       "      <td>0.566551</td>\n",
       "      <td>0.425748</td>\n",
       "      <td>0.423913</td>\n",
       "      <td>0.416086</td>\n",
       "      <td>...</td>\n",
       "      <td>0.538124</td>\n",
       "      <td>0.498910</td>\n",
       "      <td>0.607630</td>\n",
       "      <td>0.477190</td>\n",
       "      <td>0.606138</td>\n",
       "      <td>0.360823</td>\n",
       "      <td>0.584313</td>\n",
       "      <td>0.419477</td>\n",
       "      <td>0.576031</td>\n",
       "      <td>0.487795</td>\n",
       "    </tr>\n",
       "  </tbody>\n",
       "</table>\n",
       "<p>5 rows × 43 columns</p>\n",
       "</div>"
      ],
      "text/plain": [
       "    WRIST_X   WRIST_Y Letter  THUMB_CMC_X  THUMB_CMC_Y  THUMB_MCP_X  \\\n",
       "0  0.549741  0.806314      a     0.478870     0.730268     0.443897   \n",
       "1  0.550903  0.807938      a     0.480252     0.731891     0.444677   \n",
       "2  0.546920  0.800893      a     0.474883     0.724740     0.439800   \n",
       "3  0.546462  0.801266      a     0.475197     0.731994     0.438885   \n",
       "4  0.544573  0.816253      a     0.472201     0.743610     0.434722   \n",
       "\n",
       "   THUMB_MCP_Y  THUMB_IP_X  THUMB_IP_Y  THUMB_TIP_X  ...  RING_FINGER_TIP_X  \\\n",
       "0     0.562370    0.435461    0.426004     0.428723  ...           0.544214   \n",
       "1     0.563318    0.436595    0.428557     0.428147  ...           0.543923   \n",
       "2     0.560035    0.430985    0.424709     0.419549  ...           0.541135   \n",
       "3     0.555374    0.434032    0.411660     0.427522  ...           0.539967   \n",
       "4     0.566551    0.425748    0.423913     0.416086  ...           0.538124   \n",
       "\n",
       "   RING_FINGER_TIP_Y  PINKY_MCP_X  PINKY_MCP_Y  PINKY_PIP_X  PINKY_PIP_Y  \\\n",
       "0           0.496491     0.609634     0.480920     0.607194     0.370279   \n",
       "1           0.496591     0.610477     0.478628     0.607984     0.368154   \n",
       "2           0.494007     0.606882     0.476591     0.605523     0.366041   \n",
       "3           0.494287     0.607510     0.470473     0.605259     0.357664   \n",
       "4           0.498910     0.607630     0.477190     0.606138     0.360823   \n",
       "\n",
       "   PINKY_DIP_X  PINKY_DIP_Y  PINKY_TIP_X  PINKY_TIP_Y  \n",
       "0     0.586257     0.424699     0.578705     0.490445  \n",
       "1     0.587011     0.423518     0.579195     0.489630  \n",
       "2     0.583733     0.422533     0.574113     0.489113  \n",
       "3     0.583582     0.417015     0.574945     0.484437  \n",
       "4     0.584313     0.419477     0.576031     0.487795  \n",
       "\n",
       "[5 rows x 43 columns]"
      ]
     },
     "execution_count": 43,
     "metadata": {},
     "output_type": "execute_result"
    }
   ],
   "source": [
    "df.head()"
   ]
  },
  {
   "cell_type": "code",
   "execution_count": 44,
   "metadata": {},
   "outputs": [
    {
     "data": {
      "text/plain": [
       "Index(['WRIST_X', 'WRIST_Y', 'Letter', 'THUMB_CMC_X', 'THUMB_CMC_Y',\n",
       "       'THUMB_MCP_X', 'THUMB_MCP_Y', 'THUMB_IP_X', 'THUMB_IP_Y', 'THUMB_TIP_X',\n",
       "       'THUMB_TIP_Y', 'INDEX_FINGER_MCP_X', 'INDEX_FINGER_MCP_Y',\n",
       "       'INDEX_FINGER_PIP_X', 'INDEX_FINGER_PIP_Y', 'INDEX_FINGER_DIP_X',\n",
       "       'INDEX_FINGER_DIP_Y', 'INDEX_FINGER_TIP_X', 'INDEX_FINGER_TIP_Y',\n",
       "       'MIDDLE_FINGER_MCP_X', 'MIDDLE_FINGER_MCP_Y', 'MIDDLE_FINGER_PIP_X',\n",
       "       'MIDDLE_FINGER_PIP_Y', 'MIDDLE_FINGER_DIP_X', 'MIDDLE_FINGER_DIP_Y',\n",
       "       'MIDDLE_FINGER_TIP_X', 'MIDDLE_FINGER_TIP_Y', 'RING_FINGER_MCP_X',\n",
       "       'RING_FINGER_MCP_Y', 'RING_FINGER_PIP_X', 'RING_FINGER_PIP_Y',\n",
       "       'RING_FINGER_DIP_X', 'RING_FINGER_DIP_Y', 'RING_FINGER_TIP_X',\n",
       "       'RING_FINGER_TIP_Y', 'PINKY_MCP_X', 'PINKY_MCP_Y', 'PINKY_PIP_X',\n",
       "       'PINKY_PIP_Y', 'PINKY_DIP_X', 'PINKY_DIP_Y', 'PINKY_TIP_X',\n",
       "       'PINKY_TIP_Y'],\n",
       "      dtype='object')"
      ]
     },
     "execution_count": 44,
     "metadata": {},
     "output_type": "execute_result"
    }
   ],
   "source": [
    "df.columns"
   ]
  },
  {
   "cell_type": "markdown",
   "metadata": {},
   "source": [
    "### Extract Data"
   ]
  },
  {
   "cell_type": "code",
   "execution_count": 45,
   "metadata": {},
   "outputs": [],
   "source": [
    "# Extract Data\n",
    "features = ['WRIST_X', 'WRIST_Y', 'THUMB_CMC_X', 'THUMB_CMC_Y', 'THUMB_MCP_X', 'THUMB_MCP_Y', 'THUMB_IP_X', 'THUMB_IP_Y', 'THUMB_TIP_X',\n",
    "       'THUMB_TIP_Y', 'INDEX_FINGER_MCP_X', 'INDEX_FINGER_MCP_Y', 'INDEX_FINGER_PIP_X', 'INDEX_FINGER_PIP_Y', 'INDEX_FINGER_DIP_X', 'INDEX_FINGER_DIP_Y', \n",
    "       'INDEX_FINGER_TIP_X', 'INDEX_FINGER_TIP_Y', 'MIDDLE_FINGER_MCP_X', 'MIDDLE_FINGER_MCP_Y', 'MIDDLE_FINGER_PIP_X', 'MIDDLE_FINGER_PIP_Y', \n",
    "       'MIDDLE_FINGER_DIP_X', 'MIDDLE_FINGER_DIP_Y', 'MIDDLE_FINGER_TIP_X', 'MIDDLE_FINGER_TIP_Y', 'RING_FINGER_MCP_X', 'RING_FINGER_MCP_Y', \n",
    "       'RING_FINGER_PIP_X', 'RING_FINGER_PIP_Y', 'RING_FINGER_DIP_X', 'RING_FINGER_DIP_Y', 'RING_FINGER_TIP_X', 'RING_FINGER_TIP_Y', 'PINKY_MCP_X', \n",
    "       'PINKY_MCP_Y', 'PINKY_PIP_X', 'PINKY_PIP_Y', 'PINKY_DIP_X', 'PINKY_DIP_Y', 'PINKY_TIP_X', 'PINKY_TIP_Y']\n",
    "X = df[features]\n",
    "y = df[\"Letter\"]\n",
    "\n",
    "# Split the data into training and testing sets\n",
    "X_train, X_test, y_train, y_test = train_test_split(X, y, test_size=0.2, random_state=5)"
   ]
  },
  {
   "cell_type": "markdown",
   "metadata": {},
   "source": [
    "No need to scale data because they're already scaled on range 0-1."
   ]
  },
  {
   "cell_type": "markdown",
   "metadata": {},
   "source": [
    "### Hyperparameter Tuning"
   ]
  },
  {
   "cell_type": "markdown",
   "metadata": {},
   "source": [
    "Selecting K with 5-fold cross validation."
   ]
  },
  {
   "cell_type": "code",
   "execution_count": 46,
   "metadata": {},
   "outputs": [
    {
     "name": "stdout",
     "output_type": "stream",
     "text": [
      "1 [1.         0.99681529 1.         1.         1.        ]\n",
      "3 [1.         0.99681529 0.99681529 1.         1.        ]\n",
      "5 [1.         0.99681529 0.99681529 1.         0.99361022]\n",
      "7 [1.         0.99681529 0.99681529 1.         0.99680511]\n",
      "9 [1.         0.99681529 0.99681529 1.         1.        ]\n",
      "11 [1.         0.99681529 1.         1.         1.        ]\n",
      "13 [1.         0.99681529 1.         1.         1.        ]\n",
      "15 [0.99681529 0.99681529 0.99681529 1.         1.        ]\n",
      "17 [0.99363057 0.99681529 0.99681529 1.         1.        ]\n",
      "19 [0.99363057 0.99363057 1.         1.         1.        ]\n",
      "21 [0.99363057 0.99363057 0.99681529 0.99681529 1.        ]\n",
      "23 [0.99363057 0.99363057 0.99681529 0.99681529 0.99680511]\n"
     ]
    }
   ],
   "source": [
    "# Defining a range of k values to test\n",
    "k_values = list(range(1, 25, 2))\n",
    "\n",
    "# Initialize a list for cross-validation scores\n",
    "cv_scores = []\n",
    "\n",
    "# Perform 5-fold cross-validation\n",
    "for k in k_values:\n",
    "    model = KNeighborsClassifier(n_neighbors=k)\n",
    "    scores = cross_val_score(model, X_train, y_train, cv=5, scoring=\"accuracy\")\n",
    "\n",
    "    print(k, scores)\n",
    "    # Average all 5 scores\n",
    "    cv_scores.append(scores.mean())"
   ]
  },
  {
   "cell_type": "code",
   "execution_count": 47,
   "metadata": {},
   "outputs": [
    {
     "data": {
      "image/png": "[encoded data removed]",
      "text/plain": [
       "<Figure size 640x480 with 1 Axes>"
      ]
     },
     "metadata": {},
     "output_type": "display_data"
    }
   ],
   "source": [
    "# Plot our Cross Validation Results\n",
    "sns.lineplot(x=k_values, y=cv_scores, marker='o')\n",
    "plt.title('Accuracy vs. K')\n",
    "plt.xlabel('Number of Neighbors (K)')\n",
    "plt.ylabel('Accuracy')\n",
    "plt.xticks(k_values)\n",
    "plt.grid(True)"
   ]
  },
  {
   "cell_type": "markdown",
   "metadata": {},
   "source": [
    "Chose K=13 for my model."
   ]
  },
  {
   "cell_type": "markdown",
   "metadata": {},
   "source": [
    "### Building the model"
   ]
  },
  {
   "cell_type": "code",
   "execution_count": 48,
   "metadata": {},
   "outputs": [],
   "source": [
    "# Create the model\n",
    "model = KNeighborsClassifier(n_neighbors=13)\n",
    "\n",
    "# Train the model\n",
    "model = model.fit(X_train, y_train)"
   ]
  },
  {
   "cell_type": "markdown",
   "metadata": {},
   "source": [
    "### Evaluations"
   ]
  },
  {
   "cell_type": "code",
   "execution_count": 50,
   "metadata": {},
   "outputs": [
    {
     "data": {
      "text/plain": [
       "<sklearn.metrics._plot.confusion_matrix.ConfusionMatrixDisplay at 0x16e8e36a0>"
      ]
     },
     "execution_count": 50,
     "metadata": {},
     "output_type": "execute_result"
    },
    {
     "data": {
      "image/png": "[encoded data removed]",
      "text/plain": [
       "<Figure size 640x480 with 2 Axes>"
      ]
     },
     "metadata": {},
     "output_type": "display_data"
    }
   ],
   "source": [
    "# Make predictions on the test data\n",
    "y_pred = model.predict(X_test)\n",
    "\n",
    "# Create a confusion matrix\n",
    "labels = df[\"Letter\"].unique()\n",
    "conf_mat = confusion_matrix(y_test, y_pred, labels=labels)\n",
    "\n",
    "disp = ConfusionMatrixDisplay(conf_mat, display_labels=labels)\n",
    "disp.plot()"
   ]
  },
  {
   "cell_type": "code",
   "execution_count": 51,
   "metadata": {},
   "outputs": [
    {
     "data": {
      "text/plain": [
       "1.0"
      ]
     },
     "execution_count": 51,
     "metadata": {},
     "output_type": "execute_result"
    }
   ],
   "source": [
    "# Accuracy as shown by the confusion matrix\n",
    "model.score(X_test, y_test)"
   ]
  },
  {
   "cell_type": "code",
   "execution_count": null,
   "metadata": {},
   "outputs": [],
   "source": [
    "y_pred = model.predict(INSERTDATA)"
   ]
  }
 ],
 "metadata": {
  "kernelspec": {
   "display_name": ".venv",
   "language": "python",
   "name": "python3"
  },
  "language_info": {
   "codemirror_mode": {
    "name": "ipython",
    "version": 3
   },
   "file_extension": ".py",
   "mimetype": "text/x-python",
   "name": "python",
   "nbconvert_exporter": "python",
   "pygments_lexer": "ipython3",
   "version": "3.9.6"
  }
 },
 "nbformat": 4,
 "nbformat_minor": 2
}

{
 "cells": [
  {
   "cell_type": "markdown",
   "metadata": {},
   "source": [
    "# Model for Hand Landmarks"
   ]
  },
  {
   "cell_type": "markdown",
   "metadata": {},
   "source": [
    "### Library Imports and Data Loading"
   ]
  },
  {
   "cell_type": "code",
   "execution_count": 1,
   "metadata": {},
   "outputs": [],
   "source": [
    "import pandas as pd\n",
    "import seaborn as sns\n",
    "import matplotlib.pyplot as plt\n",
    "from sklearn.neighbors import KNeighborsClassifier\n",
    "from sklearn.model_selection import train_test_split, cross_val_score\n",
    "from sklearn.metrics import confusion_matrix, ConfusionMatrixDisplay\n",
    "from sklearn.preprocessing import MinMaxScaler"
   ]
  },
  {
   "cell_type": "code",
   "execution_count": 2,
   "metadata": {},
   "outputs": [],
   "source": [
    "df = pd.read_csv(\"data/landmark_locations_2.csv\")"
   ]
  },
  {
   "cell_type": "code",
   "execution_count": 3,
   "metadata": {},
   "outputs": [
    {
     "name": "stdout",
     "output_type": "stream",
     "text": [
      "<class 'pandas.core.frame.DataFrame'>\n",
      "RangeIndex: 1551 entries, 0 to 1550\n",
      "Data columns (total 64 columns):\n",
      " #   Column               Non-Null Count  Dtype  \n",
      "---  ------               --------------  -----  \n",
      " 0   WRIST_X              1551 non-null   float64\n",
      " 1   WRIST_Y              1551 non-null   float64\n",
      " 2   WRIST_Z              1551 non-null   float64\n",
      " 3   Letter               1551 non-null   object \n",
      " 4   THUMB_CMC_X          1551 non-null   float64\n",
      " 5   THUMB_CMC_Y          1551 non-null   float64\n",
      " 6   THUMB_CMC_Z          1551 non-null   float64\n",
      " 7   THUMB_MCP_X          1551 non-null   float64\n",
      " 8   THUMB_MCP_Y          1551 non-null   float64\n",
      " 9   THUMB_MCP_Z          1551 non-null   float64\n",
      " 10  THUMB_IP_X           1551 non-null   float64\n",
      " 11  THUMB_IP_Y           1551 non-null   float64\n",
      " 12  THUMB_IP_Z           1551 non-null   float64\n",
      " 13  THUMB_TIP_X          1551 non-null   float64\n",
      " 14  THUMB_TIP_Y          1551 non-null   float64\n",
      " 15  THUMB_TIP_Z          1551 non-null   float64\n",
      " 16  INDEX_FINGER_MCP_X   1551 non-null   float64\n",
      " 17  INDEX_FINGER_MCP_Y   1551 non-null   float64\n",
      " 18  INDEX_FINGER_MCP_Z   1551 non-null   float64\n",
      " 19  INDEX_FINGER_PIP_X   1551 non-null   float64\n",
      " 20  INDEX_FINGER_PIP_Y   1551 non-null   float64\n",
      " 21  INDEX_FINGER_PIP_Z   1551 non-null   float64\n",
      " 22  INDEX_FINGER_DIP_X   1551 non-null   float64\n",
      " 23  INDEX_FINGER_DIP_Y   1551 non-null   float64\n",
      " 24  INDEX_FINGER_DIP_Z   1551 non-null   float64\n",
      " 25  INDEX_FINGER_TIP_X   1551 non-null   float64\n",
      " 26  INDEX_FINGER_TIP_Y   1551 non-null   float64\n",
      " 27  INDEX_FINGER_TIP_Z   1551 non-null   float64\n",
      " 28  MIDDLE_FINGER_MCP_X  1551 non-null   float64\n",
      " 29  MIDDLE_FINGER_MCP_Y  1551 non-null   float64\n",
      " 30  MIDDLE_FINGER_MCP_Z  1551 non-null   float64\n",
      " 31  MIDDLE_FINGER_PIP_X  1551 non-null   float64\n",
      " 32  MIDDLE_FINGER_PIP_Y  1551 non-null   float64\n",
      " 33  MIDDLE_FINGER_PIP_Z  1551 non-null   float64\n",
      " 34  MIDDLE_FINGER_DIP_X  1551 non-null   float64\n",
      " 35  MIDDLE_FINGER_DIP_Y  1551 non-null   float64\n",
      " 36  MIDDLE_FINGER_DIP_Z  1551 non-null   float64\n",
      " 37  MIDDLE_FINGER_TIP_X  1551 non-null   float64\n",
      " 38  MIDDLE_FINGER_TIP_Y  1551 non-null   float64\n",
      " 39  MIDDLE_FINGER_TIP_Z  1551 non-null   float64\n",
      " 40  RING_FINGER_MCP_X    1551 non-null   float64\n",
      " 41  RING_FINGER_MCP_Y    1551 non-null   float64\n",
      " 42  RING_FINGER_MCP_Z    1551 non-null   float64\n",
      " 43  RING_FINGER_PIP_X    1551 non-null   float64\n",
      " 44  RING_FINGER_PIP_Y    1551 non-null   float64\n",
      " 45  RING_FINGER_PIP_Z    1551 non-null   float64\n",
      " 46  RING_FINGER_DIP_X    1551 non-null   float64\n",
      " 47  RING_FINGER_DIP_Y    1551 non-null   float64\n",
      " 48  RING_FINGER_DIP_Z    1551 non-null   float64\n",
      " 49  RING_FINGER_TIP_X    1551 non-null   float64\n",
      " 50  RING_FINGER_TIP_Y    1551 non-null   float64\n",
      " 51  RING_FINGER_TIP_Z    1551 non-null   float64\n",
      " 52  PINKY_MCP_X          1551 non-null   float64\n",
      " 53  PINKY_MCP_Y          1551 non-null   float64\n",
      " 54  PINKY_MCP_Z          1551 non-null   float64\n",
      " 55  PINKY_PIP_X          1551 non-null   float64\n",
      " 56  PINKY_PIP_Y          1551 non-null   float64\n",
      " 57  PINKY_PIP_Z          1551 non-null   float64\n",
      " 58  PINKY_DIP_X          1551 non-null   float64\n",
      " 59  PINKY_DIP_Y          1551 non-null   float64\n",
      " 60  PINKY_DIP_Z          1551 non-null   float64\n",
      " 61  PINKY_TIP_X          1551 non-null   float64\n",
      " 62  PINKY_TIP_Y          1551 non-null   float64\n",
      " 63  PINKY_TIP_Z          1551 non-null   float64\n",
      "dtypes: float64(63), object(1)\n",
      "memory usage: 775.6+ KB\n"
     ]
    }
   ],
   "source": [
    "df.info()"
   ]
  },
  {
   "cell_type": "code",
   "execution_count": 4,
   "metadata": {},
   "outputs": [
    {
     "data": {
      "text/plain": [
       "array(['a', 'b', 'c', 'd', 'e', 'f', 'g', 'h', 'i', 'k', 'l', 'm', 'n',\n",
       "       'o', 'p', 'q', 'r', 's', 't', 'u', 'v', 'w', 'x', 'y'],\n",
       "      dtype=object)"
      ]
     },
     "execution_count": 4,
     "metadata": {},
     "output_type": "execute_result"
    }
   ],
   "source": [
    "df['Letter'].unique()"
   ]
  },
  {
   "cell_type": "code",
   "execution_count": 5,
   "metadata": {},
   "outputs": [
    {
     "data": {
      "text/html": [
       "<div>\n",
       "<style scoped>\n",
       "    .dataframe tbody tr th:only-of-type {\n",
       "        vertical-align: middle;\n",
       "    }\n",
       "\n",
       "    .dataframe tbody tr th {\n",
       "        vertical-align: top;\n",
       "    }\n",
       "\n",
       "    .dataframe thead th {\n",
       "        text-align: right;\n",
       "    }\n",
       "</style>\n",
       "<table border=\"1\" class=\"dataframe\">\n",
       "  <thead>\n",
       "    <tr style=\"text-align: right;\">\n",
       "      <th></th>\n",
       "      <th>WRIST_X</th>\n",
       "      <th>WRIST_Y</th>\n",
       "      <th>WRIST_Z</th>\n",
       "      <th>Letter</th>\n",
       "      <th>THUMB_CMC_X</th>\n",
       "      <th>THUMB_CMC_Y</th>\n",
       "      <th>THUMB_CMC_Z</th>\n",
       "      <th>THUMB_MCP_X</th>\n",
       "      <th>THUMB_MCP_Y</th>\n",
       "      <th>THUMB_MCP_Z</th>\n",
       "      <th>...</th>\n",
       "      <th>PINKY_MCP_Z</th>\n",
       "      <th>PINKY_PIP_X</th>\n",
       "      <th>PINKY_PIP_Y</th>\n",
       "      <th>PINKY_PIP_Z</th>\n",
       "      <th>PINKY_DIP_X</th>\n",
       "      <th>PINKY_DIP_Y</th>\n",
       "      <th>PINKY_DIP_Z</th>\n",
       "      <th>PINKY_TIP_X</th>\n",
       "      <th>PINKY_TIP_Y</th>\n",
       "      <th>PINKY_TIP_Z</th>\n",
       "    </tr>\n",
       "  </thead>\n",
       "  <tbody>\n",
       "    <tr>\n",
       "      <th>0</th>\n",
       "      <td>0.598399</td>\n",
       "      <td>0.875106</td>\n",
       "      <td>-8.433434e-07</td>\n",
       "      <td>a</td>\n",
       "      <td>0.513282</td>\n",
       "      <td>0.807830</td>\n",
       "      <td>-0.036275</td>\n",
       "      <td>0.461680</td>\n",
       "      <td>0.596655</td>\n",
       "      <td>-0.044751</td>\n",
       "      <td>...</td>\n",
       "      <td>-0.011815</td>\n",
       "      <td>0.663012</td>\n",
       "      <td>0.353402</td>\n",
       "      <td>-0.039463</td>\n",
       "      <td>0.635124</td>\n",
       "      <td>0.422881</td>\n",
       "      <td>-0.035738</td>\n",
       "      <td>0.623689</td>\n",
       "      <td>0.497932</td>\n",
       "      <td>-0.024391</td>\n",
       "    </tr>\n",
       "    <tr>\n",
       "      <th>1</th>\n",
       "      <td>0.590785</td>\n",
       "      <td>0.877347</td>\n",
       "      <td>-8.652935e-07</td>\n",
       "      <td>a</td>\n",
       "      <td>0.505269</td>\n",
       "      <td>0.813887</td>\n",
       "      <td>-0.035017</td>\n",
       "      <td>0.453138</td>\n",
       "      <td>0.605505</td>\n",
       "      <td>-0.043443</td>\n",
       "      <td>...</td>\n",
       "      <td>-0.013110</td>\n",
       "      <td>0.654986</td>\n",
       "      <td>0.357806</td>\n",
       "      <td>-0.042105</td>\n",
       "      <td>0.626059</td>\n",
       "      <td>0.430473</td>\n",
       "      <td>-0.038501</td>\n",
       "      <td>0.613227</td>\n",
       "      <td>0.509142</td>\n",
       "      <td>-0.026577</td>\n",
       "    </tr>\n",
       "    <tr>\n",
       "      <th>2</th>\n",
       "      <td>0.587772</td>\n",
       "      <td>0.890769</td>\n",
       "      <td>-9.089115e-07</td>\n",
       "      <td>a</td>\n",
       "      <td>0.499409</td>\n",
       "      <td>0.831820</td>\n",
       "      <td>-0.039746</td>\n",
       "      <td>0.444853</td>\n",
       "      <td>0.614644</td>\n",
       "      <td>-0.047963</td>\n",
       "      <td>...</td>\n",
       "      <td>-0.012133</td>\n",
       "      <td>0.649930</td>\n",
       "      <td>0.362550</td>\n",
       "      <td>-0.041107</td>\n",
       "      <td>0.622825</td>\n",
       "      <td>0.437159</td>\n",
       "      <td>-0.037401</td>\n",
       "      <td>0.609114</td>\n",
       "      <td>0.515599</td>\n",
       "      <td>-0.025853</td>\n",
       "    </tr>\n",
       "    <tr>\n",
       "      <th>3</th>\n",
       "      <td>0.573666</td>\n",
       "      <td>0.909152</td>\n",
       "      <td>-9.127738e-07</td>\n",
       "      <td>a</td>\n",
       "      <td>0.486787</td>\n",
       "      <td>0.843863</td>\n",
       "      <td>-0.035172</td>\n",
       "      <td>0.430942</td>\n",
       "      <td>0.624661</td>\n",
       "      <td>-0.042478</td>\n",
       "      <td>...</td>\n",
       "      <td>-0.013436</td>\n",
       "      <td>0.640726</td>\n",
       "      <td>0.370799</td>\n",
       "      <td>-0.044372</td>\n",
       "      <td>0.611677</td>\n",
       "      <td>0.450837</td>\n",
       "      <td>-0.040172</td>\n",
       "      <td>0.599418</td>\n",
       "      <td>0.534476</td>\n",
       "      <td>-0.027471</td>\n",
       "    </tr>\n",
       "    <tr>\n",
       "      <th>4</th>\n",
       "      <td>0.585612</td>\n",
       "      <td>0.917239</td>\n",
       "      <td>-9.609118e-07</td>\n",
       "      <td>a</td>\n",
       "      <td>0.494183</td>\n",
       "      <td>0.847540</td>\n",
       "      <td>-0.038450</td>\n",
       "      <td>0.435153</td>\n",
       "      <td>0.623197</td>\n",
       "      <td>-0.047158</td>\n",
       "      <td>...</td>\n",
       "      <td>-0.014838</td>\n",
       "      <td>0.657533</td>\n",
       "      <td>0.355832</td>\n",
       "      <td>-0.046120</td>\n",
       "      <td>0.627067</td>\n",
       "      <td>0.438382</td>\n",
       "      <td>-0.039517</td>\n",
       "      <td>0.614402</td>\n",
       "      <td>0.523638</td>\n",
       "      <td>-0.024565</td>\n",
       "    </tr>\n",
       "  </tbody>\n",
       "</table>\n",
       "<p>5 rows × 64 columns</p>\n",
       "</div>"
      ],
      "text/plain": [
       "    WRIST_X   WRIST_Y       WRIST_Z Letter  THUMB_CMC_X  THUMB_CMC_Y  \\\n",
       "0  0.598399  0.875106 -8.433434e-07      a     0.513282     0.807830   \n",
       "1  0.590785  0.877347 -8.652935e-07      a     0.505269     0.813887   \n",
       "2  0.587772  0.890769 -9.089115e-07      a     0.499409     0.831820   \n",
       "3  0.573666  0.909152 -9.127738e-07      a     0.486787     0.843863   \n",
       "4  0.585612  0.917239 -9.609118e-07      a     0.494183     0.847540   \n",
       "\n",
       "   THUMB_CMC_Z  THUMB_MCP_X  THUMB_MCP_Y  THUMB_MCP_Z  ...  PINKY_MCP_Z  \\\n",
       "0    -0.036275     0.461680     0.596655    -0.044751  ...    -0.011815   \n",
       "1    -0.035017     0.453138     0.605505    -0.043443  ...    -0.013110   \n",
       "2    -0.039746     0.444853     0.614644    -0.047963  ...    -0.012133   \n",
       "3    -0.035172     0.430942     0.624661    -0.042478  ...    -0.013436   \n",
       "4    -0.038450     0.435153     0.623197    -0.047158  ...    -0.014838   \n",
       "\n",
       "   PINKY_PIP_X  PINKY_PIP_Y  PINKY_PIP_Z  PINKY_DIP_X  PINKY_DIP_Y  \\\n",
       "0     0.663012     0.353402    -0.039463     0.635124     0.422881   \n",
       "1     0.654986     0.357806    -0.042105     0.626059     0.430473   \n",
       "2     0.649930     0.362550    -0.041107     0.622825     0.437159   \n",
       "3     0.640726     0.370799    -0.044372     0.611677     0.450837   \n",
       "4     0.657533     0.355832    -0.046120     0.627067     0.438382   \n",
       "\n",
       "   PINKY_DIP_Z  PINKY_TIP_X  PINKY_TIP_Y  PINKY_TIP_Z  \n",
       "0    -0.035738     0.623689     0.497932    -0.024391  \n",
       "1    -0.038501     0.613227     0.509142    -0.026577  \n",
       "2    -0.037401     0.609114     0.515599    -0.025853  \n",
       "3    -0.040172     0.599418     0.534476    -0.027471  \n",
       "4    -0.039517     0.614402     0.523638    -0.024565  \n",
       "\n",
       "[5 rows x 64 columns]"
      ]
     },
     "execution_count": 5,
     "metadata": {},
     "output_type": "execute_result"
    }
   ],
   "source": [
    "df.head()"
   ]
  },
  {
   "cell_type": "code",
   "execution_count": 6,
   "metadata": {},
   "outputs": [
    {
     "data": {
      "text/plain": [
       "Index(['WRIST_X', 'WRIST_Y', 'WRIST_Z', 'Letter', 'THUMB_CMC_X', 'THUMB_CMC_Y',\n",
       "       'THUMB_CMC_Z', 'THUMB_MCP_X', 'THUMB_MCP_Y', 'THUMB_MCP_Z',\n",
       "       'THUMB_IP_X', 'THUMB_IP_Y', 'THUMB_IP_Z', 'THUMB_TIP_X', 'THUMB_TIP_Y',\n",
       "       'THUMB_TIP_Z', 'INDEX_FINGER_MCP_X', 'INDEX_FINGER_MCP_Y',\n",
       "       'INDEX_FINGER_MCP_Z', 'INDEX_FINGER_PIP_X', 'INDEX_FINGER_PIP_Y',\n",
       "       'INDEX_FINGER_PIP_Z', 'INDEX_FINGER_DIP_X', 'INDEX_FINGER_DIP_Y',\n",
       "       'INDEX_FINGER_DIP_Z', 'INDEX_FINGER_TIP_X', 'INDEX_FINGER_TIP_Y',\n",
       "       'INDEX_FINGER_TIP_Z', 'MIDDLE_FINGER_MCP_X', 'MIDDLE_FINGER_MCP_Y',\n",
       "       'MIDDLE_FINGER_MCP_Z', 'MIDDLE_FINGER_PIP_X', 'MIDDLE_FINGER_PIP_Y',\n",
       "       'MIDDLE_FINGER_PIP_Z', 'MIDDLE_FINGER_DIP_X', 'MIDDLE_FINGER_DIP_Y',\n",
       "       'MIDDLE_FINGER_DIP_Z', 'MIDDLE_FINGER_TIP_X', 'MIDDLE_FINGER_TIP_Y',\n",
       "       'MIDDLE_FINGER_TIP_Z', 'RING_FINGER_MCP_X', 'RING_FINGER_MCP_Y',\n",
       "       'RING_FINGER_MCP_Z', 'RING_FINGER_PIP_X', 'RING_FINGER_PIP_Y',\n",
       "       'RING_FINGER_PIP_Z', 'RING_FINGER_DIP_X', 'RING_FINGER_DIP_Y',\n",
       "       'RING_FINGER_DIP_Z', 'RING_FINGER_TIP_X', 'RING_FINGER_TIP_Y',\n",
       "       'RING_FINGER_TIP_Z', 'PINKY_MCP_X', 'PINKY_MCP_Y', 'PINKY_MCP_Z',\n",
       "       'PINKY_PIP_X', 'PINKY_PIP_Y', 'PINKY_PIP_Z', 'PINKY_DIP_X',\n",
       "       'PINKY_DIP_Y', 'PINKY_DIP_Z', 'PINKY_TIP_X', 'PINKY_TIP_Y',\n",
       "       'PINKY_TIP_Z'],\n",
       "      dtype='object')"
      ]
     },
     "execution_count": 6,
     "metadata": {},
     "output_type": "execute_result"
    }
   ],
   "source": [
    "df.columns"
   ]
  },
  {
   "cell_type": "markdown",
   "metadata": {},
   "source": [
    "### Extract Data"
   ]
  },
  {
   "cell_type": "code",
   "execution_count": 7,
   "metadata": {},
   "outputs": [],
   "source": [
    "# Extract Data\n",
    "features = ['WRIST_X', 'WRIST_Y', 'WRIST_Z', 'THUMB_CMC_X', 'THUMB_CMC_Y', 'THUMB_CMC_Z', 'THUMB_MCP_X', 'THUMB_MCP_Y', 'THUMB_MCP_Z', 'THUMB_IP_X', 'THUMB_IP_Y', 'THUMB_IP_Z', \n",
    "        'THUMB_TIP_X','THUMB_TIP_Y', 'THUMB_TIP_Z', 'INDEX_FINGER_MCP_X', 'INDEX_FINGER_MCP_Y', 'INDEX_FINGER_MCP_Z', 'INDEX_FINGER_PIP_X', 'INDEX_FINGER_PIP_Y', 'INDEX_FINGER_PIP_Z', \n",
    "        'INDEX_FINGER_DIP_X', 'INDEX_FINGER_DIP_Y', 'INDEX_FINGER_DIP_Z', 'INDEX_FINGER_TIP_X', 'INDEX_FINGER_TIP_Y', 'INDEX_FINGER_TIP_Z', 'MIDDLE_FINGER_MCP_X', 'MIDDLE_FINGER_MCP_Y', \n",
    "        'MIDDLE_FINGER_MCP_Z', 'MIDDLE_FINGER_PIP_X', 'MIDDLE_FINGER_PIP_Y', 'MIDDLE_FINGER_PIP_Z', 'MIDDLE_FINGER_DIP_X', 'MIDDLE_FINGER_DIP_Y', 'MIDDLE_FINGER_DIP_Z', 'MIDDLE_FINGER_TIP_X', \n",
    "        'MIDDLE_FINGER_TIP_Y', 'MIDDLE_FINGER_TIP_Z', 'RING_FINGER_MCP_X', 'RING_FINGER_MCP_Y', 'RING_FINGER_MCP_Z', 'RING_FINGER_PIP_X', 'RING_FINGER_PIP_Y', 'RING_FINGER_PIP_Z', 'RING_FINGER_DIP_X', \n",
    "        'RING_FINGER_DIP_Y', 'RING_FINGER_DIP_Z', 'RING_FINGER_TIP_X', 'RING_FINGER_TIP_Y', 'RING_FINGER_TIP_Z','PINKY_MCP_X', 'PINKY_MCP_Y', 'PINKY_MCP_Z', 'PINKY_PIP_X', 'PINKY_PIP_Y', 'PINKY_PIP_Z',\n",
    "        'PINKY_DIP_X', 'PINKY_DIP_Y', 'PINKY_DIP_Z', 'PINKY_TIP_X', 'PINKY_TIP_Y', 'PINKY_TIP_Z']\n",
    "X = df[features]\n",
    "y = df[\"Letter\"]\n",
    "\n",
    "# Split the data into training and testing sets\n",
    "X_train, X_test, y_train, y_test = train_test_split(X, y, test_size=0.2, random_state=5)"
   ]
  },
  {
   "cell_type": "markdown",
   "metadata": {},
   "source": [
    "No need to scale data because they're already scaled on range 0-1."
   ]
  },
  {
   "cell_type": "markdown",
   "metadata": {},
   "source": [
    "### Hyperparameter Tuning"
   ]
  },
  {
   "cell_type": "markdown",
   "metadata": {},
   "source": [
    "Selecting K with 5-fold cross validation."
   ]
  },
  {
   "cell_type": "code",
   "execution_count": 8,
   "metadata": {},
   "outputs": [
    {
     "name": "stdout",
     "output_type": "stream",
     "text": [
      "1 [1. 1. 1. 1. 1.]\n",
      "3 [1. 1. 1. 1. 1.]\n",
      "5 [1.         1.         1.         1.         0.99193548]\n",
      "7 [0.99596774 0.99596774 0.99596774 0.99596774 0.98790323]\n",
      "9 [0.99596774 0.99596774 0.99193548 0.99596774 0.98790323]\n",
      "11 [0.99193548 0.99596774 0.98790323 0.99596774 0.98790323]\n",
      "13 [0.99193548 0.99193548 0.98790323 0.99596774 0.98790323]\n",
      "15 [0.99193548 0.99193548 0.98387097 0.99193548 0.98790323]\n",
      "17 [0.98790323 0.98790323 0.97983871 0.98790323 0.98790323]\n",
      "19 [0.98387097 0.98790323 0.97580645 0.98790323 0.98387097]\n",
      "21 [0.97177419 0.97580645 0.96774194 0.98387097 0.97983871]\n",
      "23 [0.97580645 0.97177419 0.96774194 0.97983871 0.97580645]\n"
     ]
    }
   ],
   "source": [
    "# Defining a range of k values to test\n",
    "k_values = list(range(1, 25, 2))\n",
    "\n",
    "# Initialize a list for cross-validation scores\n",
    "cv_scores = []\n",
    "\n",
    "# Perform 5-fold cross-validation\n",
    "for k in k_values:\n",
    "    model = KNeighborsClassifier(n_neighbors=k)\n",
    "    scores = cross_val_score(model, X_train, y_train, cv=5, scoring=\"accuracy\")\n",
    "\n",
    "    print(k, scores)\n",
    "    # Average all 5 scores\n",
    "    cv_scores.append(scores.mean())"
   ]
  },
  {
   "cell_type": "code",
   "execution_count": 9,
   "metadata": {},
   "outputs": [
    {
     "data": {
      "image/png": "[encoded data removed]",
      "text/plain": [
       "<Figure size 640x480 with 1 Axes>"
      ]
     },
     "metadata": {},
     "output_type": "display_data"
    }
   ],
   "source": [
    "# Plot our Cross Validation Results\n",
    "sns.lineplot(x=k_values, y=cv_scores, marker='o')\n",
    "plt.title('Accuracy vs. K')\n",
    "plt.xlabel('Number of Neighbors (K)')\n",
    "plt.ylabel('Accuracy')\n",
    "plt.xticks(k_values)\n",
    "plt.grid(True)"
   ]
  },
  {
   "cell_type": "markdown",
   "metadata": {},
   "source": [
    "Chose K=9 for my model."
   ]
  },
  {
   "cell_type": "markdown",
   "metadata": {},
   "source": [
    "### Building the model"
   ]
  },
  {
   "cell_type": "code",
   "execution_count": 10,
   "metadata": {},
   "outputs": [],
   "source": [
    "# Create the model\n",
    "model = KNeighborsClassifier(n_neighbors=9)\n",
    "\n",
    "# Train the model\n",
    "model = model.fit(X_train, y_train)"
   ]
  },
  {
   "cell_type": "markdown",
   "metadata": {},
   "source": [
    "### Evaluations"
   ]
  },
  {
   "cell_type": "code",
   "execution_count": 11,
   "metadata": {},
   "outputs": [
    {
     "data": {
      "text/plain": [
       "<sklearn.metrics._plot.confusion_matrix.ConfusionMatrixDisplay at 0x142df8fa0>"
      ]
     },
     "execution_count": 11,
     "metadata": {},
     "output_type": "execute_result"
    },
    {
     "data": {
      "image/png": "[encoded data removed]",
      "text/plain": [
       "<Figure size 640x480 with 2 Axes>"
      ]
     },
     "metadata": {},
     "output_type": "display_data"
    }
   ],
   "source": [
    "# Make predictions on the test data\n",
    "y_pred = model.predict(X_test)\n",
    "\n",
    "# Create a confusion matrix\n",
    "labels = df[\"Letter\"].unique()\n",
    "conf_mat = confusion_matrix(y_test, y_pred, labels=labels)\n",
    "\n",
    "disp = ConfusionMatrixDisplay(conf_mat, display_labels=labels)\n",
    "disp.plot()"
   ]
  },
  {
   "cell_type": "code",
   "execution_count": 12,
   "metadata": {},
   "outputs": [
    {
     "data": {
      "text/plain": [
       "1.0"
      ]
     },
     "execution_count": 12,
     "metadata": {},
     "output_type": "execute_result"
    }
   ],
   "source": [
    "# Accuracy as shown by the confusion matrix\n",
    "model.score(X_test, y_test)"
   ]
  }
 ],
 "metadata": {
  "kernelspec": {
   "display_name": ".venv",
   "language": "python",
   "name": "python3"
  },
  "language_info": {
   "codemirror_mode": {
    "name": "ipython",
    "version": 3
   },
   "file_extension": ".py",
   "mimetype": "text/x-python",
   "name": "python",
   "nbconvert_exporter": "python",
   "pygments_lexer": "ipython3",
   "version": "3.9.6"
  }
 },
 "nbformat": 4,
 "nbformat_minor": 2
}
